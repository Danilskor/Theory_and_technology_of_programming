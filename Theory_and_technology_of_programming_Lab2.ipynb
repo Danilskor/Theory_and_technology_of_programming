{
  "nbformat": 4,
  "nbformat_minor": 0,
  "metadata": {
    "colab": {
      "provenance": [],
      "authorship_tag": "ABX9TyOGbw8eEmsviNfIv8LyU7J4",
      "include_colab_link": true
    },
    "kernelspec": {
      "name": "python3",
      "display_name": "Python 3"
    },
    "language_info": {
      "name": "python"
    }
  },
  "cells": [
    {
      "cell_type": "markdown",
      "metadata": {
        "id": "view-in-github",
        "colab_type": "text"
      },
      "source": [
        "<a href=\"https://colab.research.google.com/github/Danilskor/Theory_and_technology_of_programming/blob/Lab2/Theory_and_technology_of_programming_Lab2.ipynb\" target=\"_parent\"><img src=\"https://colab.research.google.com/assets/colab-badge.svg\" alt=\"Open In Colab\"/></a>"
      ]
    },
    {
      "cell_type": "code",
      "source": [
        "#Задание 1\n",
        "import random\n",
        "import numpy as np\n",
        "\n",
        "size = 10\n",
        "\n",
        "array = np.random.random(size)\n",
        "print(array)\n",
        "print()\n",
        "\n",
        "min = np.min(array)\n",
        "minindex = np.argmin(array)\n",
        "max = np.max(array)\n",
        "maxindex = np.argmax(array)\n",
        "\n",
        "print('Minimum value =', min, 'index:', minindex)\n",
        "print('Maximum value =', max, 'index:', maxindex)\n",
        "print()\n",
        "sortarray = np.sort(array, axis=-1, kind='quicksort', order=None)\n",
        "print(sortarray)\n",
        "print()\n",
        "sortarray2 = np.sort(array, axis=-1, kind='quicksort', order=None)[::-1]\n",
        "print(sortarray2)"
      ],
      "metadata": {
        "colab": {
          "base_uri": "https://localhost:8080/"
        },
        "id": "oV3k_bmlHC2u",
        "outputId": "67105a11-a4b8-436d-eb92-2a410d3937d6"
      },
      "execution_count": null,
      "outputs": [
        {
          "output_type": "stream",
          "name": "stdout",
          "text": [
            "[0.26354599 0.74452886 0.04758455 0.06536852 0.09378677 0.60322892\n",
            " 0.49790763 0.45090478 0.90804866 0.62753545]\n",
            "\n",
            "Minimum value = 0.04758455363514136 index: 2\n",
            "Maximum value = 0.9080486615977948 index: 8\n",
            "\n",
            "[0.04758455 0.06536852 0.09378677 0.26354599 0.45090478 0.49790763\n",
            " 0.60322892 0.62753545 0.74452886 0.90804866]\n",
            "\n",
            "[0.90804866 0.74452886 0.62753545 0.60322892 0.49790763 0.45090478\n",
            " 0.26354599 0.09378677 0.06536852 0.04758455]\n"
          ]
        }
      ]
    },
    {
      "cell_type": "code",
      "source": [
        "#Задание 2\n",
        "import matplotlib.pyplot as plt\n",
        "from scipy import interpolate\n",
        "import numpy as np\n",
        "\n",
        "x = [1.20, 1.57, 1.94, 2.31, 2.68, 3.05, 3.42, 3.79]\n",
        "y = [2.56, 2.06, 1.58, 1.25, 0.91, 0.66, 0.38, 0.21]\n",
        "\n",
        "grafLiner = interpolate.interp1d(x, y, kind='linear')\n",
        "xLiner = np.arange(1.20, 3.79, 0.01)\n",
        "yLiner = grafLiner(xLiner)\n",
        "\n",
        "grafCubic = interpolate.interp1d(x, y, kind='cubic')\n",
        "xCubic = np.arange(1.20, 3.79, 0.01)\n",
        "yCubic = grafCubic(xCubic)\n",
        "\n",
        "plt.plot(x, y, 'o' , xCubic, yCubic, 'r-', xLiner, yLiner, 'g-')\n",
        "plt.show()"
      ],
      "metadata": {
        "colab": {
          "base_uri": "https://localhost:8080/",
          "height": 265
        },
        "id": "u49JfLYxRxkN",
        "outputId": "30a74df2-a08f-4963-9f09-29d87bb66ea6"
      },
      "execution_count": null,
      "outputs": [
        {
          "output_type": "display_data",
          "data": {
            "text/plain": [
              "<Figure size 432x288 with 1 Axes>"
            ],
            "image/png": "[encoded data removed]"
          },
          "metadata": {
            "needs_background": "light"
          }
        }
      ]
    },
    {
      "cell_type": "code",
      "source": [
        "#Задание 3\n"
      ],
      "metadata": {
        "id": "8jgjR_QSav0V"
      },
      "execution_count": null,
      "outputs": []
    },
    {
      "cell_type": "code",
      "source": [
        "#Задание 4"
      ],
      "metadata": {
        "id": "5x1_b0vg7FUW"
      },
      "execution_count": null,
      "outputs": []
    },
    {
      "cell_type": "code",
      "source": [
        "#Задание 5 "
      ],
      "metadata": {
        "id": "c5dbks2x7HQk"
      },
      "execution_count": null,
      "outputs": []
    },
    {
      "cell_type": "code",
      "source": [
        "#Задание 6"
      ],
      "metadata": {
        "id": "c-KiBNCO7HZB"
      },
      "execution_count": null,
      "outputs": []
    },
    {
      "cell_type": "code",
      "source": [
        "#Задание 7"
      ],
      "metadata": {
        "id": "ZICpfVew7Hg7"
      },
      "execution_count": null,
      "outputs": []
    }
  ]
}